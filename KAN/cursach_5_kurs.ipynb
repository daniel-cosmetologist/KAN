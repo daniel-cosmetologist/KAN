{
 "cells": [
  {
   "cell_type": "code",
   "execution_count": 3,
   "id": "79e00517",
   "metadata": {},
   "outputs": [
    {
     "name": "stdout",
     "output_type": "stream",
     "text": [
      "Размер набора данных: (1962, 47)\n",
      "['возраст', 'пол', 'масса_тела', 'рост', 'холестерин', 'нас._жир', 'натрий_na', 'сахара', 'энергия', 'вода', 'пищ._волокна', 'мононенас._жир', 'белки', 'полиненас._жир', 'калий_k', 'крахмал', 'жиры', 'кальций_ca', 'углеводы', 'олеиновая_кислота', 'магний_mg', 'a', 'b1_тиамин', 'b2_рибофлав.', 'b5_пантотен._кис.', 'b6_пиридоксин', 'b9_фолаты', 'b12_кобаламин', 'b4_холин', 'фосфор_p', 'омега-3', 'железо_fe', 'омега-6', 'c', 'e_α-токоферол', 'фенилаланин', 'pp_ниацин', 'йод_i', 'медь_cu', 'селен_se', 'цинк_zn', 'профессия_работники_преимущественно_умственного_труда', 'профессия_работники_занятые_легким_физическим_трудом', 'спорт_легкий_спорт', 'спорт_не_занимаюсь', 'bmi', 'target']\n",
      "Осталось пропусков:\n",
      " возраст                                                  0\n",
      "пол                                                      0\n",
      "масса_тела                                               0\n",
      "рост                                                     0\n",
      "холестерин                                               0\n",
      "нас._жир                                                 0\n",
      "натрий_na                                                0\n",
      "сахара                                                   0\n",
      "энергия                                                  0\n",
      "вода                                                     0\n",
      "пищ._волокна                                             0\n",
      "мононенас._жир                                           0\n",
      "белки                                                    0\n",
      "полиненас._жир                                           0\n",
      "калий_k                                                  0\n",
      "крахмал                                                  0\n",
      "жиры                                                     0\n",
      "кальций_ca                                               0\n",
      "углеводы                                                 0\n",
      "олеиновая_кислота                                        0\n",
      "магний_mg                                                0\n",
      "a                                                        0\n",
      "b1_тиамин                                                0\n",
      "b2_рибофлав.                                             0\n",
      "b5_пантотен._кис.                                        0\n",
      "b6_пиридоксин                                            0\n",
      "b9_фолаты                                                0\n",
      "b12_кобаламин                                            0\n",
      "b4_холин                                                 0\n",
      "фосфор_p                                                 0\n",
      "омега-3                                                  0\n",
      "железо_fe                                                0\n",
      "омега-6                                                  0\n",
      "c                                                        0\n",
      "e_α-токоферол                                            0\n",
      "фенилаланин                                              0\n",
      "pp_ниацин                                                0\n",
      "йод_i                                                    0\n",
      "медь_cu                                                  0\n",
      "селен_se                                                 0\n",
      "цинк_zn                                                  0\n",
      "профессия_работники_преимущественно_умственного_труда    0\n",
      "профессия_работники_занятые_легким_физическим_трудом     0\n",
      "спорт_легкий_спорт                                       0\n",
      "спорт_не_занимаюсь                                       0\n",
      "bmi                                                      0\n",
      "target                                                   0\n",
      "dtype: int64\n"
     ]
    }
   ],
   "source": [
    "import pandas as pd\n",
    "import numpy as np\n",
    "\n",
    "# Загрузка данных\n",
    "df = pd.read_csv(\"../datasets_raw/db_nl_preprocessed-edit.csv\")  # предположим, что файл называется data.csv\n",
    "print(\"Размер набора данных:\", df.shape)\n",
    "print(df.columns.tolist())  # Названия столбцов\n",
    "\n",
    "# 1) Обработка пропусков: заполним отсутствующие значения медианой по столбцу\n",
    "df = df.fillna(df.median(numeric_only=True))\n",
    "\n",
    "# Проверим, остались ли пропуски\n",
    "print(\"Осталось пропусков:\\n\", df.isna().sum())"
   ]
  },
  {
   "cell_type": "code",
   "execution_count": 4,
   "id": "a15ee843",
   "metadata": {},
   "outputs": [
    {
     "name": "stdout",
     "output_type": "stream",
     "text": [
      "Признаки с r>0.90: ['жиры', 'олеиновая_кислота', 'магний_mg', 'b2_рибофлав.', 'b6_пиридоксин', 'фосфор_p', 'железо_fe', 'омега-6', 'e_α-токоферол', 'фенилаланин', 'pp_ниацин', 'селен_se', 'bmi']\n",
      "Осталось признаков: 33\n"
     ]
    }
   ],
   "source": [
    "# 2) Удаление сильно коррелированных признаков\n",
    "corr_matrix = df.drop(columns='target').corr().abs()        # корреляции по модулю между признаками (без целевой)\n",
    "upper = corr_matrix.where( np.triu(np.ones_like(corr_matrix), k=1).astype(bool) )\n",
    "high_corr_cols = [col for col in upper.columns if any(upper[col] > 0.90)]\n",
    "print(\"Признаки с r>0.90:\", high_corr_cols)\n",
    "\n",
    "# Удалим эти признаки из датасета\n",
    "df_reduced = df.drop(columns=high_corr_cols)\n",
    "print(\"Осталось признаков:\", len(df_reduced.columns) - 1)  # вычитаем целевой столбец\n"
   ]
  },
  {
   "cell_type": "code",
   "execution_count": 5,
   "id": "634a0a38",
   "metadata": {},
   "outputs": [
    {
     "name": "stdout",
     "output_type": "stream",
     "text": [
      "Размер обучающей выборки: 1373\n",
      "Размер валидационной выборки: 294\n",
      "Размер тестовой выборки: 295\n"
     ]
    }
   ],
   "source": [
    "from sklearn.model_selection import train_test_split\n",
    "\n",
    "X = df_reduced.drop(columns='target').values\n",
    "y = df_reduced['target'].values\n",
    "\n",
    "# Разобьем на train, val, test\n",
    "X_train, X_temp, y_train, y_temp = train_test_split(X, y, test_size=0.30, stratify=y, random_state=42)\n",
    "X_val, X_test, y_val, y_test = train_test_split(X_temp, y_temp, test_size=0.50, stratify=y_temp, random_state=42)\n",
    "\n",
    "print(\"Размер обучающей выборки:\", X_train.shape[0])\n",
    "print(\"Размер валидационной выборки:\", X_val.shape[0])\n",
    "print(\"Размер тестовой выборки:\", X_test.shape[0])\n"
   ]
  },
  {
   "cell_type": "code",
   "execution_count": 6,
   "id": "f0e7aee7",
   "metadata": {},
   "outputs": [
    {
     "name": "stdout",
     "output_type": "stream",
     "text": [
      "Среднее обуч. признаков: [-2.15575716e-16 -4.80314987e-17 -7.13680147e-16 -2.43715382e-16\n",
      "  1.26844800e-15 -3.26456512e-15  8.06387408e-16 -9.62934515e-16\n",
      " -2.74830737e-15 -9.17672509e-16 -1.98586797e-15 -2.39922996e-15\n",
      " -1.40948999e-15  1.00930836e-15 -4.37741613e-16 -1.50401662e-15\n",
      " -5.85919595e-16  8.02182630e-16  1.28569163e-16  1.56789690e-16\n",
      " -4.23235130e-15  4.85732681e-16 -9.40899863e-16 -1.04440208e-15\n",
      " -2.51801493e-16  5.16184469e-18  4.96244625e-16  1.42319595e-15\n",
      " -6.35568316e-16 -7.95673311e-17 -9.88688778e-16  1.47005496e-16\n",
      "  1.84848495e-16]\n",
      "СКО обуч. признаков: [1. 1. 1. 1. 1. 1. 1. 1. 1. 1. 1. 1. 1. 1. 1. 1. 1. 1. 1. 1. 1. 1. 1. 1.\n",
      " 1. 1. 1. 1. 1. 1. 1. 1. 1.]\n"
     ]
    }
   ],
   "source": [
    "from sklearn.preprocessing import StandardScaler\n",
    "\n",
    "scaler = StandardScaler()\n",
    "X_train_scaled = scaler.fit_transform(X_train)\n",
    "X_val_scaled   = scaler.transform(X_val)\n",
    "X_test_scaled  = scaler.transform(X_test)\n",
    "\n",
    "# Проверим: средние обучающих признаков ~0, СКО ~1\n",
    "print(\"Среднее обуч. признаков:\", X_train_scaled.mean(axis=0))\n",
    "print(\"СКО обуч. признаков:\", X_train_scaled.std(axis=0))\n"
   ]
  },
  {
   "cell_type": "code",
   "execution_count": 11,
   "id": "3656770e",
   "metadata": {},
   "outputs": [
    {
     "name": "stdout",
     "output_type": "stream",
     "text": [
      "checkpoint directory created: ./model\n",
      "saving model version 0.0\n"
     ]
    },
    {
     "name": "stderr",
     "output_type": "stream",
     "text": [
      "| train_loss: 4.09e-04 | test_loss: 5.05e+00 | reg: 5.97e+02 | : 100%|█| 100/100 [00:09<00:00, 10.09"
     ]
    },
    {
     "name": "stdout",
     "output_type": "stream",
     "text": [
      "saving model version 0.1\n"
     ]
    },
    {
     "name": "stderr",
     "output_type": "stream",
     "text": [
      "\n"
     ]
    }
   ],
   "source": [
    "import torch\n",
    "from kan import KAN  # импорт KAN из библиотеки PyKAN\n",
    "\n",
    "# Определим архитектуру: [число входов, число скрытых, число выходов]\n",
    "n_features = X_train_scaled.shape[1]\n",
    "model = KAN(width=[n_features, 10, 2], k=3, grid=5, seed=0)  \n",
    "# width = [33, 10, 2]: 33 входа -> 10 скрытых -> 2 выхода; k=3 (кубический сплайн), grid=5 (узлов для сплайна)\n",
    "\n",
    "# Подготовим данные для PyTorch\n",
    "X_train_t = torch.tensor(X_train_scaled, dtype=torch.float32)\n",
    "y_train_t = torch.tensor(y_train, dtype=torch.long)\n",
    "X_val_t   = torch.tensor(X_val_scaled, dtype=torch.float32)\n",
    "y_val_t   = torch.tensor(y_val, dtype=torch.long)\n",
    "\n",
    "# Обучение модели KAN\n",
    "dataset = {\n",
    "    'train_input': X_train_t, 'train_label': y_train_t,\n",
    "    'test_input':  X_val_t,   'test_label':  y_val_t\n",
    "}\n",
    "# results = model.train(dataset, opt=\"LBFGS\", steps=100, loss_fn=torch.nn.CrossEntropyLoss())\n",
    "results = model.fit(\n",
    "    dataset,\n",
    "    opt=\"LBFGS\",\n",
    "    steps=100,\n",
    "    loss_fn=torch.nn.CrossEntropyLoss()\n",
    ")"
   ]
  },
  {
   "cell_type": "code",
   "execution_count": 12,
   "id": "fab032e9",
   "metadata": {},
   "outputs": [
    {
     "name": "stdout",
     "output_type": "stream",
     "text": [
      "Точность (Train): 1.0\n",
      "Точность (Val): 0.6904761904761905\n",
      "F1-мера (Val): 0.6690909090909091\n"
     ]
    }
   ],
   "source": [
    "# Оценка точности на обучающей и валидационной выборках\n",
    "\n",
    "train_preds = torch.argmax(model(X_train_t), dim=1).numpy()\n",
    "val_preds   = torch.argmax(model(X_val_t), dim=1).numpy()\n",
    "from sklearn.metrics import accuracy_score, f1_score\n",
    "print(\"Точность (Train):\", accuracy_score(y_train, train_preds))\n",
    "print(\"Точность (Val):\", accuracy_score(y_val, val_preds))\n",
    "print(\"F1-мера (Val):\", f1_score(y_val, val_preds))\n"
   ]
  },
  {
   "cell_type": "code",
   "execution_count": 13,
   "id": "91f45a50",
   "metadata": {},
   "outputs": [
    {
     "name": "stdout",
     "output_type": "stream",
     "text": [
      "Точность Random Forest (Val): 0.7619047619047619\n"
     ]
    }
   ],
   "source": [
    "from sklearn.ensemble import RandomForestClassifier\n",
    "rf = RandomForestClassifier(n_estimators=100, random_state=42)\n",
    "rf.fit(X_train_scaled, y_train)\n",
    "rf_val_preds = rf.predict(X_val_scaled)\n",
    "print(\"Точность Random Forest (Val):\", accuracy_score(y_val, rf_val_preds))\n"
   ]
  },
  {
   "cell_type": "code",
   "execution_count": null,
   "id": "c1ec7f3a",
   "metadata": {},
   "outputs": [],
   "source": []
  }
 ],
 "metadata": {
  "kernelspec": {
   "display_name": ".venv",
   "language": "python",
   "name": "python3"
  },
  "language_info": {
   "codemirror_mode": {
    "name": "ipython",
    "version": 3
   },
   "file_extension": ".py",
   "mimetype": "text/x-python",
   "name": "python",
   "nbconvert_exporter": "python",
   "pygments_lexer": "ipython3",
   "version": "3.9.6"
  }
 },
 "nbformat": 4,
 "nbformat_minor": 5
}
